{
 "cells": [
  {
   "cell_type": "code",
   "execution_count": 110,
   "id": "41de6e83",
   "metadata": {},
   "outputs": [],
   "source": [
    "#Day 4"
   ]
  },
  {
   "cell_type": "code",
   "execution_count": 111,
   "id": "8087e13b",
   "metadata": {},
   "outputs": [],
   "source": [
    "import numpy as np\n",
    "import pandas as pd"
   ]
  },
  {
   "cell_type": "code",
   "execution_count": 112,
   "id": "7b9d5511",
   "metadata": {},
   "outputs": [],
   "source": [
    "data=pd.read_csv('Value_of_Energy_Cost_Savings_Program_Savings_for_Businesses_-_FY2020.csv')"
   ]
  },
  {
   "cell_type": "code",
   "execution_count": 113,
   "id": "8e90f4d9",
   "metadata": {},
   "outputs": [
    {
     "data": {
      "text/plain": [
       "450"
      ]
     },
     "execution_count": 113,
     "metadata": {},
     "output_type": "execute_result"
    }
   ],
   "source": [
    "#How many different companies are represented in the data set?\n",
    "data['Company Name'].count()"
   ]
  },
  {
   "cell_type": "code",
   "execution_count": 114,
   "id": "7cabb992",
   "metadata": {},
   "outputs": [
    {
     "data": {
      "text/plain": [
       "ECSP    441\n",
       "LMEP      9\n",
       "Name: Company Type, dtype: int64"
      ]
     },
     "execution_count": 114,
     "metadata": {},
     "output_type": "execute_result"
    }
   ],
   "source": [
    "#How many different companie types are represented in the data set?\n",
    "data['Company Type'].value_counts()"
   ]
  },
  {
   "cell_type": "code",
   "execution_count": 115,
   "id": "92071bd6",
   "metadata": {},
   "outputs": [],
   "source": [
    "new=(data['Borough']=='Queens')"
   ]
  },
  {
   "cell_type": "code",
   "execution_count": 116,
   "id": "6f2e699f",
   "metadata": {},
   "outputs": [
    {
     "data": {
      "text/html": [
       "<div>\n",
       "<style scoped>\n",
       "    .dataframe tbody tr th:only-of-type {\n",
       "        vertical-align: middle;\n",
       "    }\n",
       "\n",
       "    .dataframe tbody tr th {\n",
       "        vertical-align: top;\n",
       "    }\n",
       "\n",
       "    .dataframe thead th {\n",
       "        text-align: right;\n",
       "    }\n",
       "</style>\n",
       "<table border=\"1\" class=\"dataframe\">\n",
       "  <thead>\n",
       "    <tr style=\"text-align: right;\">\n",
       "      <th></th>\n",
       "      <th>Company Name</th>\n",
       "      <th>company contact</th>\n",
       "      <th>company email</th>\n",
       "      <th>company phone</th>\n",
       "      <th>Address</th>\n",
       "      <th>City</th>\n",
       "      <th>State</th>\n",
       "      <th>Postcode</th>\n",
       "      <th>Industry</th>\n",
       "      <th>Industry descr</th>\n",
       "      <th>...</th>\n",
       "      <th>Savings from beginning receiving benefits</th>\n",
       "      <th>Borough</th>\n",
       "      <th>Latitude</th>\n",
       "      <th>Longitude</th>\n",
       "      <th>Community Board</th>\n",
       "      <th>Council District</th>\n",
       "      <th>Census Tract</th>\n",
       "      <th>BIN</th>\n",
       "      <th>BBL</th>\n",
       "      <th>NTA</th>\n",
       "    </tr>\n",
       "  </thead>\n",
       "  <tbody>\n",
       "    <tr>\n",
       "      <th>6</th>\n",
       "      <td>139 ACA Realty, Inc.</td>\n",
       "      <td>Eitan Chandally</td>\n",
       "      <td>barbara@dial7.com</td>\n",
       "      <td>7187076123</td>\n",
       "      <td>43-23 35th Street</td>\n",
       "      <td>Long Island City</td>\n",
       "      <td>NY</td>\n",
       "      <td>11101</td>\n",
       "      <td>Commercial</td>\n",
       "      <td>Limousine Service</td>\n",
       "      <td>...</td>\n",
       "      <td>129401.39</td>\n",
       "      <td>Queens</td>\n",
       "      <td>40.745706</td>\n",
       "      <td>-73.929565</td>\n",
       "      <td>402.0</td>\n",
       "      <td>26.0</td>\n",
       "      <td>179.0</td>\n",
       "      <td>4003160.0</td>\n",
       "      <td>4.002220e+09</td>\n",
       "      <td>Hunters Point-Sunnyside-West Maspeth</td>\n",
       "    </tr>\n",
       "    <tr>\n",
       "      <th>8</th>\n",
       "      <td>14-10 123rd Street LLC</td>\n",
       "      <td>Danica/Ivan Drazic</td>\n",
       "      <td>ddrazic@atjelectrical.com</td>\n",
       "      <td>7183210117</td>\n",
       "      <td>14-10 123rd Street</td>\n",
       "      <td>College Point</td>\n",
       "      <td>NY</td>\n",
       "      <td>11356</td>\n",
       "      <td>Commercial</td>\n",
       "      <td>Electrical Parts Mfg.</td>\n",
       "      <td>...</td>\n",
       "      <td>28752.48</td>\n",
       "      <td>Queens</td>\n",
       "      <td>40.785144</td>\n",
       "      <td>-73.844833</td>\n",
       "      <td>407.0</td>\n",
       "      <td>19.0</td>\n",
       "      <td>929.0</td>\n",
       "      <td>4098344.0</td>\n",
       "      <td>4.040850e+09</td>\n",
       "      <td>College Point</td>\n",
       "    </tr>\n",
       "    <tr>\n",
       "      <th>12</th>\n",
       "      <td>21st Century Optics, Inc.</td>\n",
       "      <td>Ralph Woythaler</td>\n",
       "      <td>rwoythaler@21st centuryoptics.com</td>\n",
       "      <td>7183922310</td>\n",
       "      <td>47-00 33rd Street</td>\n",
       "      <td>Lond Island City</td>\n",
       "      <td>NY</td>\n",
       "      <td>11101</td>\n",
       "      <td>Manufacturing</td>\n",
       "      <td>Eye glasses</td>\n",
       "      <td>...</td>\n",
       "      <td>288983.01</td>\n",
       "      <td>Queens</td>\n",
       "      <td>40.742386</td>\n",
       "      <td>-73.932148</td>\n",
       "      <td>402.0</td>\n",
       "      <td>26.0</td>\n",
       "      <td>199.0</td>\n",
       "      <td>4003447.0</td>\n",
       "      <td>4.002520e+09</td>\n",
       "      <td>Hunters Point-Sunnyside-West Maspeth</td>\n",
       "    </tr>\n",
       "    <tr>\n",
       "      <th>14</th>\n",
       "      <td>4Over4.com</td>\n",
       "      <td>Anastasio Panagiotopolous</td>\n",
       "      <td>taso@4over4.com</td>\n",
       "      <td>7189322700</td>\n",
       "      <td>19-41 46th Street</td>\n",
       "      <td>Long Island City</td>\n",
       "      <td>NY</td>\n",
       "      <td>11105</td>\n",
       "      <td>Manufacturing</td>\n",
       "      <td>Printer</td>\n",
       "      <td>...</td>\n",
       "      <td>184923.14</td>\n",
       "      <td>Queens</td>\n",
       "      <td>40.774940</td>\n",
       "      <td>-73.896804</td>\n",
       "      <td>401.0</td>\n",
       "      <td>22.0</td>\n",
       "      <td>12301.0</td>\n",
       "      <td>4441806.0</td>\n",
       "      <td>4.007740e+09</td>\n",
       "      <td>Steinway</td>\n",
       "    </tr>\n",
       "    <tr>\n",
       "      <th>15</th>\n",
       "      <td>538-540 West 35 Corp</td>\n",
       "      <td>Richard Silver</td>\n",
       "      <td>tankman220@aol.com</td>\n",
       "      <td>2127366618</td>\n",
       "      <td>11-42 46th Road</td>\n",
       "      <td>Queens</td>\n",
       "      <td>NY</td>\n",
       "      <td>11101</td>\n",
       "      <td>Manufacturing</td>\n",
       "      <td>steel, wood &amp; cement tanks</td>\n",
       "      <td>...</td>\n",
       "      <td>56744.11</td>\n",
       "      <td>Queens</td>\n",
       "      <td>40.745510</td>\n",
       "      <td>-73.949497</td>\n",
       "      <td>402.0</td>\n",
       "      <td>26.0</td>\n",
       "      <td>7.0</td>\n",
       "      <td>4436616.0</td>\n",
       "      <td>4.000560e+09</td>\n",
       "      <td>Hunters Point-Sunnyside-West Maspeth</td>\n",
       "    </tr>\n",
       "    <tr>\n",
       "      <th>...</th>\n",
       "      <td>...</td>\n",
       "      <td>...</td>\n",
       "      <td>...</td>\n",
       "      <td>...</td>\n",
       "      <td>...</td>\n",
       "      <td>...</td>\n",
       "      <td>...</td>\n",
       "      <td>...</td>\n",
       "      <td>...</td>\n",
       "      <td>...</td>\n",
       "      <td>...</td>\n",
       "      <td>...</td>\n",
       "      <td>...</td>\n",
       "      <td>...</td>\n",
       "      <td>...</td>\n",
       "      <td>...</td>\n",
       "      <td>...</td>\n",
       "      <td>...</td>\n",
       "      <td>...</td>\n",
       "      <td>...</td>\n",
       "      <td>...</td>\n",
       "    </tr>\n",
       "    <tr>\n",
       "      <th>433</th>\n",
       "      <td>WATER LILIES FOOD, INC.</td>\n",
       "      <td>Peter Lee</td>\n",
       "      <td>peterlee@waterliliesfood.com</td>\n",
       "      <td>7187778899</td>\n",
       "      <td>45-10 19TH AVENUE</td>\n",
       "      <td>Queens</td>\n",
       "      <td>NY</td>\n",
       "      <td>11105</td>\n",
       "      <td>Manufacturing</td>\n",
       "      <td>MANUFACTURER</td>\n",
       "      <td>...</td>\n",
       "      <td>927036.80</td>\n",
       "      <td>Queens</td>\n",
       "      <td>40.776128</td>\n",
       "      <td>-73.896413</td>\n",
       "      <td>401.0</td>\n",
       "      <td>22.0</td>\n",
       "      <td>12301.0</td>\n",
       "      <td>4014854.0</td>\n",
       "      <td>4.007750e+09</td>\n",
       "      <td>Steinway</td>\n",
       "    </tr>\n",
       "    <tr>\n",
       "      <th>435</th>\n",
       "      <td>Weapons Specialist Ltd</td>\n",
       "      <td>Richard  Washburn</td>\n",
       "      <td>ryder@weaponspecialists.com</td>\n",
       "      <td>2129417696</td>\n",
       "      <td>47-40 Metropolitan Ave</td>\n",
       "      <td>Queens</td>\n",
       "      <td>NY</td>\n",
       "      <td>11385</td>\n",
       "      <td>Wholesale/Warehouse/Distribution</td>\n",
       "      <td>Studio Property Rental, Motion Picture business</td>\n",
       "      <td>...</td>\n",
       "      <td>165002.94</td>\n",
       "      <td>Queens</td>\n",
       "      <td>40.713695</td>\n",
       "      <td>-73.918990</td>\n",
       "      <td>405.0</td>\n",
       "      <td>34.0</td>\n",
       "      <td>539.0</td>\n",
       "      <td>4548477.0</td>\n",
       "      <td>4.033750e+09</td>\n",
       "      <td>Ridgewood</td>\n",
       "    </tr>\n",
       "    <tr>\n",
       "      <th>436</th>\n",
       "      <td>Werwaiss &amp; Co., Inc.</td>\n",
       "      <td>John  Wersaiss</td>\n",
       "      <td>JW@werwaissandco.com</td>\n",
       "      <td>9173187800</td>\n",
       "      <td>22-15 43rd Ave, Ste 300</td>\n",
       "      <td>Queens</td>\n",
       "      <td>NY</td>\n",
       "      <td>11101</td>\n",
       "      <td>Commercial</td>\n",
       "      <td>Real estate management</td>\n",
       "      <td>...</td>\n",
       "      <td>3335.97</td>\n",
       "      <td>Queens</td>\n",
       "      <td>40.749987</td>\n",
       "      <td>-73.944311</td>\n",
       "      <td>402.0</td>\n",
       "      <td>26.0</td>\n",
       "      <td>19.0</td>\n",
       "      <td>4005067.0</td>\n",
       "      <td>4.004260e+09</td>\n",
       "      <td>Hunters Point-Sunnyside-West Maspeth</td>\n",
       "    </tr>\n",
       "    <tr>\n",
       "      <th>439</th>\n",
       "      <td>White Coffee Corporation</td>\n",
       "      <td>Jonathan White</td>\n",
       "      <td>jw@whitecoffee.com</td>\n",
       "      <td>7182047900</td>\n",
       "      <td>18-35 38th Street</td>\n",
       "      <td>Queens</td>\n",
       "      <td>NY</td>\n",
       "      <td>11105</td>\n",
       "      <td>Manufacturing</td>\n",
       "      <td>Mfg specialty coffee/import &amp; distribute coffe...</td>\n",
       "      <td>...</td>\n",
       "      <td>583542.01</td>\n",
       "      <td>Queens</td>\n",
       "      <td>40.779751</td>\n",
       "      <td>-73.898971</td>\n",
       "      <td>401.0</td>\n",
       "      <td>22.0</td>\n",
       "      <td>12301.0</td>\n",
       "      <td>4436972.0</td>\n",
       "      <td>4.008130e+09</td>\n",
       "      <td>Steinway</td>\n",
       "    </tr>\n",
       "    <tr>\n",
       "      <th>449</th>\n",
       "      <td>Wurtec Incorporated</td>\n",
       "      <td>Bill Popp</td>\n",
       "      <td>bill.popp@wurtec.com</td>\n",
       "      <td>4197261066</td>\n",
       "      <td>31-50 31st Street</td>\n",
       "      <td>Lond Island City</td>\n",
       "      <td>NY</td>\n",
       "      <td>11106</td>\n",
       "      <td>Wholesale/Warehouse/Distribution</td>\n",
       "      <td>Elevator  tooling products</td>\n",
       "      <td>...</td>\n",
       "      <td>0.00</td>\n",
       "      <td>Queens</td>\n",
       "      <td>40.763148</td>\n",
       "      <td>-73.924442</td>\n",
       "      <td>401.0</td>\n",
       "      <td>22.0</td>\n",
       "      <td>61.0</td>\n",
       "      <td>4007562.0</td>\n",
       "      <td>4.005890e+09</td>\n",
       "      <td>Astoria</td>\n",
       "    </tr>\n",
       "  </tbody>\n",
       "</table>\n",
       "<p>173 rows × 26 columns</p>\n",
       "</div>"
      ],
      "text/plain": [
       "                  Company Name            company contact  \\\n",
       "6         139 ACA Realty, Inc.            Eitan Chandally   \n",
       "8       14-10 123rd Street LLC         Danica/Ivan Drazic   \n",
       "12   21st Century Optics, Inc.            Ralph Woythaler   \n",
       "14                  4Over4.com  Anastasio Panagiotopolous   \n",
       "15        538-540 West 35 Corp             Richard Silver   \n",
       "..                         ...                        ...   \n",
       "433    WATER LILIES FOOD, INC.                  Peter Lee   \n",
       "435     Weapons Specialist Ltd          Richard  Washburn   \n",
       "436       Werwaiss & Co., Inc.             John  Wersaiss   \n",
       "439   White Coffee Corporation             Jonathan White   \n",
       "449        Wurtec Incorporated                  Bill Popp   \n",
       "\n",
       "                         company email company phone                  Address  \\\n",
       "6                    barbara@dial7.com    7187076123        43-23 35th Street   \n",
       "8            ddrazic@atjelectrical.com    7183210117       14-10 123rd Street   \n",
       "12   rwoythaler@21st centuryoptics.com    7183922310        47-00 33rd Street   \n",
       "14                     taso@4over4.com    7189322700        19-41 46th Street   \n",
       "15                  tankman220@aol.com    2127366618          11-42 46th Road   \n",
       "..                                 ...           ...                      ...   \n",
       "433       peterlee@waterliliesfood.com    7187778899        45-10 19TH AVENUE   \n",
       "435        ryder@weaponspecialists.com    2129417696   47-40 Metropolitan Ave   \n",
       "436               JW@werwaissandco.com    9173187800  22-15 43rd Ave, Ste 300   \n",
       "439                 jw@whitecoffee.com    7182047900        18-35 38th Street   \n",
       "449               bill.popp@wurtec.com    4197261066        31-50 31st Street   \n",
       "\n",
       "                 City State  Postcode                          Industry  \\\n",
       "6    Long Island City    NY     11101                        Commercial   \n",
       "8       College Point    NY     11356                        Commercial   \n",
       "12   Lond Island City    NY     11101                     Manufacturing   \n",
       "14   Long Island City    NY     11105                     Manufacturing   \n",
       "15             Queens    NY     11101                     Manufacturing   \n",
       "..                ...   ...       ...                               ...   \n",
       "433            Queens    NY     11105                     Manufacturing   \n",
       "435            Queens    NY     11385  Wholesale/Warehouse/Distribution   \n",
       "436            Queens    NY     11101                        Commercial   \n",
       "439            Queens    NY     11105                     Manufacturing   \n",
       "449  Lond Island City    NY     11106  Wholesale/Warehouse/Distribution   \n",
       "\n",
       "                                        Industry descr  ...  \\\n",
       "6                                    Limousine Service  ...   \n",
       "8                                Electrical Parts Mfg.  ...   \n",
       "12                                         Eye glasses  ...   \n",
       "14                                             Printer  ...   \n",
       "15                          steel, wood & cement tanks  ...   \n",
       "..                                                 ...  ...   \n",
       "433                                       MANUFACTURER  ...   \n",
       "435    Studio Property Rental, Motion Picture business  ...   \n",
       "436                             Real estate management  ...   \n",
       "439  Mfg specialty coffee/import & distribute coffe...  ...   \n",
       "449                         Elevator  tooling products  ...   \n",
       "\n",
       "    Savings from beginning receiving benefits  Borough   Latitude  Longitude  \\\n",
       "6                                   129401.39   Queens  40.745706 -73.929565   \n",
       "8                                    28752.48   Queens  40.785144 -73.844833   \n",
       "12                                  288983.01   Queens  40.742386 -73.932148   \n",
       "14                                  184923.14   Queens  40.774940 -73.896804   \n",
       "15                                   56744.11   Queens  40.745510 -73.949497   \n",
       "..                                        ...      ...        ...        ...   \n",
       "433                                 927036.80   Queens  40.776128 -73.896413   \n",
       "435                                 165002.94   Queens  40.713695 -73.918990   \n",
       "436                                   3335.97   Queens  40.749987 -73.944311   \n",
       "439                                 583542.01   Queens  40.779751 -73.898971   \n",
       "449                                      0.00   Queens  40.763148 -73.924442   \n",
       "\n",
       "    Community Board  Council District  Census Tract        BIN           BBL  \\\n",
       "6             402.0              26.0         179.0  4003160.0  4.002220e+09   \n",
       "8             407.0              19.0         929.0  4098344.0  4.040850e+09   \n",
       "12            402.0              26.0         199.0  4003447.0  4.002520e+09   \n",
       "14            401.0              22.0       12301.0  4441806.0  4.007740e+09   \n",
       "15            402.0              26.0           7.0  4436616.0  4.000560e+09   \n",
       "..              ...               ...           ...        ...           ...   \n",
       "433           401.0              22.0       12301.0  4014854.0  4.007750e+09   \n",
       "435           405.0              34.0         539.0  4548477.0  4.033750e+09   \n",
       "436           402.0              26.0          19.0  4005067.0  4.004260e+09   \n",
       "439           401.0              22.0       12301.0  4436972.0  4.008130e+09   \n",
       "449           401.0              22.0          61.0  4007562.0  4.005890e+09   \n",
       "\n",
       "                                      NTA  \n",
       "6    Hunters Point-Sunnyside-West Maspeth  \n",
       "8                           College Point  \n",
       "12   Hunters Point-Sunnyside-West Maspeth  \n",
       "14                               Steinway  \n",
       "15   Hunters Point-Sunnyside-West Maspeth  \n",
       "..                                    ...  \n",
       "433                              Steinway  \n",
       "435                             Ridgewood  \n",
       "436  Hunters Point-Sunnyside-West Maspeth  \n",
       "439                              Steinway  \n",
       "449                               Astoria  \n",
       "\n",
       "[173 rows x 26 columns]"
      ]
     },
     "execution_count": 116,
     "metadata": {},
     "output_type": "execute_result"
    }
   ],
   "source": [
    "data[new]"
   ]
  },
  {
   "cell_type": "code",
   "execution_count": 117,
   "id": "b4730a28",
   "metadata": {},
   "outputs": [
    {
     "data": {
      "text/plain": [
       "102.0"
      ]
     },
     "execution_count": 117,
     "metadata": {},
     "output_type": "execute_result"
    }
   ],
   "source": [
    "#What is the total number of jobs created for businesses in Queens?\n",
    "data[new]['Job created'].sum()"
   ]
  },
  {
   "cell_type": "code",
   "execution_count": 118,
   "id": "4ab46552",
   "metadata": {},
   "outputs": [
    {
     "name": "stdout",
     "output_type": "stream",
     "text": [
      "433\n",
      "original email addresses: ['eskoblo@energyspec.com', 'nan', 'nan', 'akimball@industrycity.com', 'clettich@silvprop.com', 'jmccalla@silvprop.com', 'barbara@dial7.com', 'jrproduce@gmail.com', 'ddrazic@atjelectrical.com', 'tsapienza@KLCNY.com', 'nan', 'Camellia.Giardina@am.jll.com', 'rwoythaler@21st centuryoptics.com', 'Eskoblo@energyspec.com', 'taso@4over4.com', 'tankman220@aol.com', 'info@MEQS.com', 'Rlegati@mdc-partners.com', 'Eskoblo@energyspec.com', 'service@alscientific.com', 'tnogalo@aksinternational.com', 'rich@abelcine.com', 'sps@abigal.com', 'tracy.lesnau@accenture.com', 'jmatuza@bilingualsino.com', 'ggalietti@actioncarting.com', 'platta@aduiepyle.com', 'sarah.robinson1@consultant.aecom.com', 'eileen@remains.com', 'anrotlevi@afcindustries.com', 'munah@africanservices.com', 'marie@avac.org', 'guzzi@aladdinbakery.com', 'mwinkle1@yu.edu', 'mwinkle1@yu.edu', 'heather@alchemypaintworks.com', 'Johnmd@allcitymetal.com', 'halbycpa@alleprocessing.com', 'alliedsamplecard@netzero.net', 'garry@allisoneden.comP', 'martinw@allstatemedical.com', 'avi@alrue.com', 'bweisfuse@amazon.com', 'Amarkarian@americanbridge.net', 'areilly@folkartmuseum.org', 'Amtorq@gmail.com', 'cryan@american-transit.com', 'amy@amysbread.com', 'steve.hunter@anhuser-busch.com', 'sheika@apexglobe.com', 'mjacobs@apple-bank.com', 'vincenttheures@approvedoil.com', 'apthorpcleaners@gmail.com', 'tom@aristacoffee.com', 'cory@armadany.com', 'FPark@arrowlinen.com', 'admin@asymptote.net', 'bthayer@bthayerassociates.com', 'david@bcsroyal.com', 'bchrietzberg@bpair.com', 'eric@blindbuildersusa.com', 'eileen@baldorfood.com', 'alanlevitz@gmail.com', 'jbark@barkframeworks.com', 'nbarone@baronesteel.com', 'lilla@barryxball.com', 'terry@bcga.com', 'jbehrendt@belomtmetals.com', 'gabe@bensonmills.com', 'peter@bermudalimo.com', 'MDANA@BESTCASECELLULAR.COM', 'bestchoiceseafood@yahoo.com', 'anrotlevi@bestmounting.com', 'maxivision@msn.com', 'andrew@bigheavystudios.com', 'billieannplastics.com', 'elliot@bimmys.com', 'nan', 'bjorkcarle@earthlink.net', 'RB@blumb.com', 'bobopoultry@gmail.com', 'nmenon@boycetech.com', 'info@brkdistilling.com', 'gkesner@silvercupstudios.com', 'johnbattista@yorkstudios.com', 'myleskehoe@bwtglass.com', 'crau@brooklynitx.com', 'jgewitrtzbrooklynnets.com', 'robert.bednarz@us.ngrid.com', 'zalkin@brooklynbrands.com', 'nan', 'info@jonathanburden.com', 'vito@cameometal.com', 'sarac@capjeff.com', 'kdell@carltonhouse.net', 'ericschweitzer@carnegielinen.com', 'barnaby@casualfilms.com', 'rob@cavcoroofing.com', 'edward.p.rooney@chase.com', 'allen@plexi-craft.com', 'tyule@christies.com', 'jkuduk@christies.com', 'tony.agazzi@citi.com', 'citybaking@aol.com', 'spartanllc@verizon.net', 'Aviviani@cbs-collins.com', 'mark@comfortbeddinginc.com', 'michael@mtmsalescorp.com', 'borisk@csgny.com', 'angel@conceptfarm.com', 'nan', 'david@coolwind.biz', 'jeff@coronetparts.com', 'jweiss@cosmoscommunications.com', 'Renee@cotronics.com', 'paula@crepini.com', 'pfung@crystallaketrading.com', 'kleeper@cyracom.com', 'dccentercorp@gmail.com', 'durga@dsanddurga.com', 'kclark@chefswarehouse.com', 'danielscuderi@Danielscuderi.com', 'info@dartmedicallab.com', 'jf@dasnymech.com', 'nan', 'mitch@dcdad.com', 'david@habersilver.com', 'villacisw@gmail.com', 'Dkhusial@DTCC.com', 'chandra.gopalakrishnan@db.com', 'aberger@ddp-ny.com', 'lunabella3939@aol.com', 'ccordoba@dinascorp.com', 'mike1downeast@hotmail.com', 'dans@drsmood.com', 'vejai@ducecc.com', 'eric@dundyglass.com', 'ldyjewles@yahoo.com', 'vmundo@jibei.com', 'Doel@ejork.com', 'ricardow@interstate-envelope.com', 'msza@aol.com', 'ericg@gm-graphics.com', 'Scott@easterneffects.com', 'sol@easterntabletop.com', 'suri@eclecticprops.com', 'eprice@epl.com', 'adamp@emgmediainc.com', 'dmiller@empressmam.com', 'r.potti@epic-pharma.com', 'hgoodfri@estee.com', 'mberry@storagedeluxe.com', 'Aweiner@evergreene.com', 'henry@export-sales.com', 'oleg.ezink@gmail.com', 'dennis.tortora@fairwaymarket.com', 'Falconecookie@aol.com', 'witchservice@fatwitch.com', 'omid@faviana.com', 'plasticsrus@aol.com', 'kellen@fayda.com', 'sam.adamson@fedex.com', 'sam.adamson@fedex.com', 'sam.adamson@fedex.com', 'legal@fidelitypayment.com', 'ismetaksdc@gmail.com', 'andre@cvmventures.com', 'mtyras@foodfestdepot.com', 'rragaliotis@fcrc.com', 'creilly@fraplaster.com', 'studio@unionstreetstudiollc.com', 'nan', 'gbennett@freshdirect.com', 'gbennett@freshdirect.com', 'jgold@manhattanfruitier.com', 'ddourgarian@gailer.com', 'info@necsenergy.com', 'anna@gcreate.com', 'tfallon@globalterminals.com', 'info@corkfloor.com', 'paulg@goldsteincapital.com', 'viraj@gothamgreens.com', 'macsfish@gmail.com', 'rliberto@gourmetboutique.com', 'hgraf@glarchiects.com', 'BonillaC@graham-windham.org', 'gm3343388@aol.com', 'scottw@grandstandsports.com', 'officegreenfelds.com', 'ginabws@gmail.com', 'aletaind@aol.com', 'infor@grimmales.com', 'karingh@gustavrestoration.com', 'sjacobs@haleandhearty.com', 'jsitt@vinegarhillhc.com', 'rachel@halmarkarchitectural.com', 'kristy.grippo@halo.com', 'gbrainum@hbsteel.com', 'oscar@heinsenproducts.com', 'joe@herculesht.com', 'nan', 'justyjay47@alo.com', 'alina@highlinestages.com', 'babu@hgstones.com', 'cblaker@millerblaker.com', 'tnt71@mrtcarting.com', 'ashwinshah@houseofspicesindia.com', 'whitmananne@icloud.com', 'info@heyhush.com', 'mikeb@hydromx', 'carol@maliamills.com', 'ecupit@idlelectric.com', 'bob@iehcorp.com', 'elizabeth.gabor @ikea.com', 'celia@innergaze.com', 'ashira@insekdesign.com', 'therman@ArtexFAS.com', 'haroldr@galwein.com', 'joe@jandjjohnson.com', 'bakerboy@optonline.net', 'robert.chichester@jcrew.com', 'jacques@mrchocolate.com', 'james.carpenter@aol.com', 'ben@janusproperty.com', 'JFDUSA8@yahoo.com', 'marian@johnsnyc.com', 'Dave.Barger.@Jetblue.com', 'Dave.Barger.@Jetblue.com', 'rkirschner@jetrord.com', 'tomifm@gmail.com', 'mindhandcoinc@verizon.net', 'Markshortliffe@gmail.com', 'tschmidt@jprmechanical.com', 'charlii@justbagels.com', 'joseph-c@us.klinelogistics.com', 'everon@sureiron.com', 'kkmachine@usa.com', 'Lkarr@karrgraphics.com', 'nan', 'renuka@thekatirollcompany.com', 'tracy@kaufmanastoria.com', 'nan', 'nan', 'Finance@kickstarter.com', 'ebond203@aol.com', 'tom.smith@am.kwe.com', 'cityonere@aol.com', 'BG20744@hotmail.com', 'mkopelevich@kflawny.com', 'gvgendel@gmail.com', 'ericm@Krinos.com', 'bill.kastin@lafarge-na.com', 'tom.hoi@lafayette148.com', 'info@lafgrind.com', 'sfermisco@leespring.com', 'chandally@aol.com', 'Lidausa88@gmail.com', 'rgreene@liquid8technology.net', 'royalbaltic@gmail.com', 'jeff@horizonmills.net', 'catherine.rivera@livestream.com', 'ron@proaudiostar.com', 'jweiss@longislandconcrete.net', 'frank@mandrcpas.com', 'nan', 'mackglassnauth@aol.com', 'jm@madamepaulette.com', 'ngold@madelainechocolate.com', 'gregory.schmidt@magellan.aero', 'gregory.schmidt@magellan.aero', 'jerry@mecny.com', 'info@mariebelle.com', 'lzahn@maricmechanical.com', 'sestino@marinaicecream.com', 'brespler@marjam.com', 'darin@matros.com', 'kevin.sears@cmcinnis.com', 'jan.berman@mechoshade.com', 'smaroulis@corfufoods.com', 'smaroulis@corfufoods.com', 'MEIR@MESORAH.COM', 'gfina@mcfina.com', 'jherman@mkjcomm.com', 'modernwindows.linda@gmail.com', 'showky.k@gomondial.com', 'sam@montebellofoods.com', 'pjenning@montefiore.org', 'pjenning@montefiore.org', 'DawnDeleon@hotmail.com', 'etienne@mytworks.com', 'bjessop@nationalacoustics.com', 'jay@nationaltextile.net', 'slieberman@kaufmanshoe.com', 'john@natuzzibrosice.com', 'novak@jansproperty.com', 'p.neuman@neumanskitch.com', 'r.schwartz@newconceptsllc.com', 'dmandel@heydenryk.com', 'cjacobellis@palacepaints.com', 'nan', 'zkassim@nybc.org', 'ecohen@nydigitalcolor.com', 'ram@nyfusa.com', 'nyinsulate@aol.com', 'sevangelinos@gmail.com', 'aman@takecareof.com', 'lance@novaprinting.com', 'adenovarebiologistics.com', 'joe@noveltycrystal.com', 'MD@NovoArts.com', 'jahlin@nulux.com', 'nan', 'octopusgdn@gmail.com', 'robert@artimusnyc.com', 'yk@ohnuts.com', 'dave@onegirlcookies.com', 'nate@otherhalfbrewing.com', 'keith@orwashers.com', 'tole@paindavignon-nyc.com', 'info@paperenterprises.com', 'will@paralleldevelopment.net', 'parkwayequip@optimum.net', 'vicki@parsons-meares.com', 'mmatassa@empiremerchants.com', 'michael@raviolistore.com', 'shermanr@pepsi-ny.com', 'vmanthripragada@petcarerx.com', 'Patsimeone@forbee.com', 'jason.kotara@gmail.com', 'monae@picturefarmpro.com', 'Barryt.teger@pintoandtegerelectric.com', 'info@pdoinc.com', 'posterprinters@aol.com', 'jesse.brummer@truepill.com', 'premiummillwork@gmail.com', 'dknopp@presentationproducts.com', 'cosmetics@nicka.com', 'carl@qualitycasting.com', 'jasmine@lightsup.info', 'maggie@rainbowplasticsinc.com', 'grandproperty1@aol.com', 'david@rdsdelivery.com', 'paul@financierpastries.com', 'rhys@myredrabbit.com', 'rhondafeinman@aol.com', 'rturchiano@rph.nyc', 'dg@digitallaundry.net', 'wspiezia@rogerssurveying.com', 'mgoldberg@rusa.com', 'dan@catbirdnyc.com', 'sofiampaine@mac.com', 'nperez@eliteairlineservices.com', 'roobaby2@aol.com', 'errol@missgrimble.com', 'niki@russanddaughters.com', 'joe@rwsandassociates.com', 'ted@slaerospace.com', 'clive@safeart.com', 'info@sculpturehousecasting.com', 'sridhar@sdcdesigns.com', 'sharanbuildersinc@gmail.com', 'jkolman@gmail.com', 'babu@signsanddecal.com', 'richard@sillyphillie.com', 'norvel@silverhillarts.com', 'gkesner@silvercupstudios.com', 'gkesner@silvercupstudios.com', '2bsilverman@gmail.com', 'kimspikes@siminternational.com', 'Ppuccio@simdev.com', 'beth@tradesupplygroup.com', 'al@influencegraphics.com', 'adrian@colossalmediagroup.com', 'rygo.foss@skylinerestoration.com', 'ekraus@skylinewindows.com', 'janet@soharlem.org', 'sspaeth@spaethdesign.com', 'brian.c.wells@charter.com', 'hollyp@spinmaster.com', 'hollyp@spinmaster.com', 'Elliott@squarerootsgrow.com', 'seeta.ssj@gmail.com', 'Brian.Willie@foodtravelexperts.com', 'john@stallionnyc.com', 'emily@standandbuild.com', 'ryan.darden@stinkstudio.com', 'Yuji624@gmail.com', 'gwen@brooklyngrangefarm.com', 'mpinkett@sweetsams.com', 'ginabws@gmail.com', '2klandmark@aol.com', 'jake@talasonline.com', 'dbrooks@teigroup.com', 'damian@thebronxbrewery.com', 'cterrasi@dime.com', 'bgarland@gluckplus.com', 'rochelle@handytool.com', 'ianm@lobsterplace.com', 'why86@verizon.net', 'gt@gtmachinetool.com', 'Tsapienza@KLCNY.com', 'jkc@nyu.edu', 'mwong@titone.com', 'jj@tonerquest.com', 'tw@tracywatts.com', 'rbennett@ultraflex.com', 'ant@transmitterbrewing.com', 'jcoakley@ceqy.com', 'marc@triplumbing.com', 'kathy.alfano@pepsico.com', 'Tufofoods@aol.com', 'jing@tmitrading.com', 'Franco@Twoseven.net', 'grassoe@ulano.com', 'nan', 'vmaniti@unitedair.com', 'mlafrance@unfcu.com', 'stella.canlas@uwgny.com', 'gil@urbanarchaeology.com', 'urbangreenfurniture.com', 'crowley@usta.com', 'nan', 'allroofingcorp@aol.com', 'jscuderi@vbcpkg.com', 'cor2vue@aol.com', 'gary@vaynermedia.com', 'Lshelley@vera.org', 'windom.paul@petrossian.com', 'karen.jessen@vnsny.org', 'giskarou@prattindustries.com', 'jpharari@vivatime.com', 'bwilks@w-architecture.com', 'mrdessert@gmail.com']\n",
      "......................\n",
      "domain email addresses: ['energyspec.com', 'nan', 'nan', 'industrycity.com', 'silvprop.com', 'silvprop.com', 'dial7.com', 'gmail.com', 'atjelectrical.com', 'KLCNY.com', 'nan', 'am.jll.com', '21st centuryoptics.com', 'energyspec.com', '4over4.com', 'aol.com', 'MEQS.com', 'mdc-partners.com', 'energyspec.com', 'alscientific.com', 'aksinternational.com', 'abelcine.com', 'abigal.com', 'accenture.com', 'bilingualsino.com', 'actioncarting.com', 'aduiepyle.com', 'consultant.aecom.com', 'remains.com', 'afcindustries.com', 'africanservices.com', 'avac.org', 'aladdinbakery.com', 'yu.edu', 'yu.edu', 'alchemypaintworks.com', 'allcitymetal.com', 'alleprocessing.com', 'netzero.net', 'allisoneden.comP', 'allstatemedical.com', 'alrue.com', 'amazon.com', 'americanbridge.net', 'folkartmuseum.org', 'gmail.com', 'american-transit.com', 'amysbread.com', 'anhuser-busch.com', 'apexglobe.com', 'apple-bank.com', 'approvedoil.com', 'gmail.com', 'aristacoffee.com', 'armadany.com', 'arrowlinen.com', 'asymptote.net', 'bthayerassociates.com', 'bcsroyal.com', 'bpair.com', 'blindbuildersusa.com', 'baldorfood.com', 'gmail.com', 'barkframeworks.com', 'baronesteel.com', 'barryxball.com', 'bcga.com', 'belomtmetals.com', 'bensonmills.com', 'bermudalimo.com', 'BESTCASECELLULAR.COM', 'yahoo.com', 'bestmounting.com', 'msn.com', 'bigheavystudios.com', 'billieannplastics.com', 'bimmys.com', 'nan', 'earthlink.net', 'blumb.com', 'gmail.com', 'boycetech.com', 'brkdistilling.com', 'silvercupstudios.com', 'yorkstudios.com', 'bwtglass.com', 'brooklynitx.com', 'jgewitrtzbrooklynnets.com', 'us.ngrid.com', 'brooklynbrands.com', 'nan', 'jonathanburden.com', 'cameometal.com', 'capjeff.com', 'carltonhouse.net', 'carnegielinen.com', 'casualfilms.com', 'cavcoroofing.com', 'chase.com', 'plexi-craft.com', 'christies.com', 'christies.com', 'citi.com', 'aol.com', 'verizon.net', 'cbs-collins.com', 'comfortbeddinginc.com', 'mtmsalescorp.com', 'csgny.com', 'conceptfarm.com', 'nan', 'coolwind.biz', 'coronetparts.com', 'cosmoscommunications.com', 'cotronics.com', 'crepini.com', 'crystallaketrading.com', 'cyracom.com', 'gmail.com', 'dsanddurga.com', 'chefswarehouse.com', 'Danielscuderi.com', 'dartmedicallab.com', 'dasnymech.com', 'nan', 'dcdad.com', 'habersilver.com', 'gmail.com', 'DTCC.com', 'db.com', 'ddp-ny.com', 'aol.com', 'dinascorp.com', 'hotmail.com', 'drsmood.com', 'ducecc.com', 'dundyglass.com', 'yahoo.com', 'jibei.com', 'ejork.com', 'interstate-envelope.com', 'aol.com', 'gm-graphics.com', 'easterneffects.com', 'easterntabletop.com', 'eclecticprops.com', 'epl.com', 'emgmediainc.com', 'empressmam.com', 'epic-pharma.com', 'estee.com', 'storagedeluxe.com', 'evergreene.com', 'export-sales.com', 'gmail.com', 'fairwaymarket.com', 'aol.com', 'fatwitch.com', 'faviana.com', 'aol.com', 'fayda.com', 'fedex.com', 'fedex.com', 'fedex.com', 'fidelitypayment.com', 'gmail.com', 'cvmventures.com', 'foodfestdepot.com', 'fcrc.com', 'fraplaster.com', 'unionstreetstudiollc.com', 'nan', 'freshdirect.com', 'freshdirect.com', 'manhattanfruitier.com', 'gailer.com', 'necsenergy.com', 'gcreate.com', 'globalterminals.com', 'corkfloor.com', 'goldsteincapital.com', 'gothamgreens.com', 'gmail.com', 'gourmetboutique.com', 'glarchiects.com', 'graham-windham.org', 'aol.com', 'grandstandsports.com', 'officegreenfelds.com', 'gmail.com', 'aol.com', 'grimmales.com', 'gustavrestoration.com', 'haleandhearty.com', 'vinegarhillhc.com', 'halmarkarchitectural.com', 'halo.com', 'hbsteel.com', 'heinsenproducts.com', 'herculesht.com', 'nan', 'alo.com', 'highlinestages.com', 'hgstones.com', 'millerblaker.com', 'mrtcarting.com', 'houseofspicesindia.com', 'icloud.com', 'heyhush.com', 'hydromx', 'maliamills.com', 'idlelectric.com', 'iehcorp.com', 'ikea.com', 'innergaze.com', 'insekdesign.com', 'ArtexFAS.com', 'galwein.com', 'jandjjohnson.com', 'optonline.net', 'jcrew.com', 'mrchocolate.com', 'aol.com', 'janusproperty.com', 'yahoo.com', 'johnsnyc.com', 'Jetblue.com', 'Jetblue.com', 'jetrord.com', 'gmail.com', 'verizon.net', 'gmail.com', 'jprmechanical.com', 'justbagels.com', 'us.klinelogistics.com', 'sureiron.com', 'usa.com', 'karrgraphics.com', 'nan', 'thekatirollcompany.com', 'kaufmanastoria.com', 'nan', 'nan', 'kickstarter.com', 'aol.com', 'am.kwe.com', 'aol.com', 'hotmail.com', 'kflawny.com', 'gmail.com', 'Krinos.com', 'lafarge-na.com', 'lafayette148.com', 'lafgrind.com', 'leespring.com', 'aol.com', 'gmail.com', 'liquid8technology.net', 'gmail.com', 'horizonmills.net', 'livestream.com', 'proaudiostar.com', 'longislandconcrete.net', 'mandrcpas.com', 'nan', 'aol.com', 'madamepaulette.com', 'madelainechocolate.com', 'magellan.aero', 'magellan.aero', 'mecny.com', 'mariebelle.com', 'maricmechanical.com', 'marinaicecream.com', 'marjam.com', 'matros.com', 'cmcinnis.com', 'mechoshade.com', 'corfufoods.com', 'corfufoods.com', 'MESORAH.COM', 'mcfina.com', 'mkjcomm.com', 'gmail.com', 'gomondial.com', 'montebellofoods.com', 'montefiore.org', 'montefiore.org', 'hotmail.com', 'mytworks.com', 'nationalacoustics.com', 'nationaltextile.net', 'kaufmanshoe.com', 'natuzzibrosice.com', 'jansproperty.com', 'neumanskitch.com', 'newconceptsllc.com', 'heydenryk.com', 'palacepaints.com', 'nan', 'nybc.org', 'nydigitalcolor.com', 'nyfusa.com', 'aol.com', 'gmail.com', 'takecareof.com', 'novaprinting.com', 'adenovarebiologistics.com', 'noveltycrystal.com', 'NovoArts.com', 'nulux.com', 'nan', 'gmail.com', 'artimusnyc.com', 'ohnuts.com', 'onegirlcookies.com', 'otherhalfbrewing.com', 'orwashers.com', 'paindavignon-nyc.com', 'paperenterprises.com', 'paralleldevelopment.net', 'optimum.net', 'parsons-meares.com', 'empiremerchants.com', 'raviolistore.com', 'pepsi-ny.com', 'petcarerx.com', 'forbee.com', 'gmail.com', 'picturefarmpro.com', 'pintoandtegerelectric.com', 'pdoinc.com', 'aol.com', 'truepill.com', 'gmail.com', 'presentationproducts.com', 'nicka.com', 'qualitycasting.com', 'lightsup.info', 'rainbowplasticsinc.com', 'aol.com', 'rdsdelivery.com', 'financierpastries.com', 'myredrabbit.com', 'aol.com', 'rph.nyc', 'digitallaundry.net', 'rogerssurveying.com', 'rusa.com', 'catbirdnyc.com', 'mac.com', 'eliteairlineservices.com', 'aol.com', 'missgrimble.com', 'russanddaughters.com', 'rwsandassociates.com', 'slaerospace.com', 'safeart.com', 'sculpturehousecasting.com', 'sdcdesigns.com', 'gmail.com', 'gmail.com', 'signsanddecal.com', 'sillyphillie.com', 'silverhillarts.com', 'silvercupstudios.com', 'silvercupstudios.com', 'gmail.com', 'siminternational.com', 'simdev.com', 'tradesupplygroup.com', 'influencegraphics.com', 'colossalmediagroup.com', 'skylinerestoration.com', 'skylinewindows.com', 'soharlem.org', 'spaethdesign.com', 'charter.com', 'spinmaster.com', 'spinmaster.com', 'squarerootsgrow.com', 'gmail.com', 'foodtravelexperts.com', 'stallionnyc.com', 'standandbuild.com', 'stinkstudio.com', 'gmail.com', 'brooklyngrangefarm.com', 'sweetsams.com', 'gmail.com', 'aol.com', 'talasonline.com', 'teigroup.com', 'thebronxbrewery.com', 'dime.com', 'gluckplus.com', 'handytool.com', 'lobsterplace.com', 'verizon.net', 'gtmachinetool.com', 'KLCNY.com', 'nyu.edu', 'titone.com', 'tonerquest.com', 'tracywatts.com', 'ultraflex.com', 'transmitterbrewing.com', 'ceqy.com', 'triplumbing.com', 'pepsico.com', 'aol.com', 'tmitrading.com', 'Twoseven.net', 'ulano.com', 'nan', 'unitedair.com', 'unfcu.com', 'uwgny.com', 'urbanarchaeology.com', 'urbangreenfurniture.com', 'usta.com', 'nan', 'aol.com', 'vbcpkg.com', 'aol.com', 'vaynermedia.com', 'vera.org', 'petrossian.com', 'vnsny.org', 'prattindustries.com', 'vivatime.com', 'w-architecture.com', 'gmail.com']\n",
      "                       0\n",
      "0         energyspec.com\n",
      "1                    nan\n",
      "2                    nan\n",
      "3       industrycity.com\n",
      "4           silvprop.com\n",
      "..                   ...\n",
      "428            vnsny.org\n",
      "429  prattindustries.com\n",
      "430         vivatime.com\n",
      "431   w-architecture.com\n",
      "432            gmail.com\n",
      "\n",
      "[433 rows x 1 columns]\n",
      "gmail.com             28\n",
      "aol.com               22\n",
      "nan                   17\n",
      "yahoo.com              3\n",
      "hotmail.com            3\n",
      "                      ..\n",
      "earthlink.net          1\n",
      "dundyglass.com         1\n",
      "ducecc.com             1\n",
      "dsanddurga.com         1\n",
      "highlinestages.com     1\n",
      "Length: 347, dtype: int64\n",
      "How many different unique email domains names are there in the data set?: 346\n"
     ]
    }
   ],
   "source": [
    "#How many different unique email domains names are there in the data set?\n",
    "email=data['company email']\n",
    "email.dropna()\n",
    "print(email.count())\n",
    "x=[]\n",
    "y=[]\n",
    "for i in range(email.count()):\n",
    "    x.append(str(email[i]))\n",
    "print('original email addresses:',x)\n",
    "print('......................')\n",
    "for j in range(len(x)):\n",
    "    m=x[j].find('@')+1\n",
    "    y.append(x[j][m:])\n",
    "print('domain email addresses:',y)\n",
    "domain_emails=pd.DataFrame(y)\n",
    "print(domain_emails)\n",
    "domain_uniqe=domain_emails.value_counts()\n",
    "print(domain_uniqe)\n",
    "#remove nan for sum\n",
    "print('How many different unique email domains names are there in the data set?:',domain_uniqe.count()-1)\n",
    "\n",
    "    \n",
    "    "
   ]
  },
  {
   "cell_type": "code",
   "execution_count": 119,
   "id": "a8e241a5",
   "metadata": {},
   "outputs": [
    {
     "name": "stdout",
     "output_type": "stream",
     "text": [
      "                                                   NTA  Job created\n",
      "0                                              Midwood          NaN\n",
      "1               SoHo-TriBeCa-Civic Center-Little Italy          NaN\n",
      "2                    Battery Park City-Lower Manhattan          NaN\n",
      "3                                     Sunset Park West          NaN\n",
      "4                    Battery Park City-Lower Manhattan          NaN\n",
      "..                                                 ...          ...\n",
      "445                                     Bushwick South         10.0\n",
      "446                                     Bushwick South          NaN\n",
      "447  Mariner's Harbor-Arlington-Port Ivory-Granitev...          NaN\n",
      "448                                Crown Heights North          NaN\n",
      "449                                            Astoria          NaN\n",
      "\n",
      "[450 rows x 2 columns]\n",
      "                                                   NTA  Total Savings\n",
      "0                                              Midwood           0.00\n",
      "1               SoHo-TriBeCa-Civic Center-Little Italy      136578.20\n",
      "2                    Battery Park City-Lower Manhattan      302959.40\n",
      "3                                     Sunset Park West        2159.67\n",
      "4                    Battery Park City-Lower Manhattan      922407.32\n",
      "..                                                 ...            ...\n",
      "445                                     Bushwick South       35384.76\n",
      "446                                     Bushwick South        1457.26\n",
      "447  Mariner's Harbor-Arlington-Port Ivory-Granitev...        8971.02\n",
      "448                                Crown Heights North        2484.84\n",
      "449                                            Astoria           0.00\n",
      "\n",
      "[450 rows x 2 columns]\n"
     ]
    }
   ],
   "source": [
    "#Considering only NTAs with at least 5 listed businesses, what is the average total savings and the total jobs created for each NTA?\n",
    "NTA_DATA_with_jobcreated=data[['NTA','Job created']]\n",
    "print(NTA_DATA_with_jobcreated)\n",
    "NTA_DATA_with_totalsavings=data[['NTA','Total Savings']]\n",
    "print(NTA_DATA_with_totalsavings)"
   ]
  },
  {
   "cell_type": "code",
   "execution_count": 120,
   "id": "3a419f2a",
   "metadata": {},
   "outputs": [
    {
     "name": "stdout",
     "output_type": "stream",
     "text": [
      "Total job created for each NTA:\n",
      "                                    Job created\n",
      "NTA                                           \n",
      "Astoria                                    0.0\n",
      "Baisley Park                               0.0\n",
      "Battery Park City-Lower Manhattan          0.0\n",
      "Bedford                                    0.0\n",
      "Bensonhurst West                           0.0\n",
      "...                                        ...\n",
      "Whitestone                                10.0\n",
      "Williamsburg                               0.0\n",
      "Windsor Terrace                            0.0\n",
      "Woodside                                   0.0\n",
      "park-cemetery-etc-Brooklyn                 0.0\n",
      "\n",
      "[79 rows x 1 columns]\n"
     ]
    }
   ],
   "source": [
    "NTAgroupby_jobcreated=NTA_DATA_with_jobcreated.groupby('NTA').sum('Job created')\n",
    "print('Total job created for each NTA:\\n',NTAgroupby_jobcreated)"
   ]
  },
  {
   "cell_type": "code",
   "execution_count": 121,
   "id": "e526ec40",
   "metadata": {},
   "outputs": [
    {
     "name": "stdout",
     "output_type": "stream",
     "text": [
      "Average total savings for each NTA:\n",
      "                                    Total Savings\n",
      "NTA                                             \n",
      "Astoria                             11409.986667\n",
      "Baisley Park                        21522.740000\n",
      "Battery Park City-Lower Manhattan  469890.796667\n",
      "Bedford                             62113.343333\n",
      "Bensonhurst West                     -379.470000\n",
      "...                                          ...\n",
      "Whitestone                          62038.306667\n",
      "Williamsburg                        23570.080000\n",
      "Windsor Terrace                     78573.320000\n",
      "Woodside                             5625.736667\n",
      "park-cemetery-etc-Brooklyn          14327.419333\n",
      "\n",
      "[79 rows x 1 columns]\n"
     ]
    }
   ],
   "source": [
    "NTAgroupby_totalsavings=NTA_DATA_with_totalsavings.groupby('NTA').mean('Total Savings')\n",
    "print('Average total savings for each NTA:\\n',NTAgroupby_totalsavings)"
   ]
  },
  {
   "cell_type": "code",
   "execution_count": 122,
   "id": "66757111",
   "metadata": {},
   "outputs": [
    {
     "name": "stdout",
     "output_type": "stream",
     "text": [
      "                                   Job created  Total Savings\n",
      "NTA                                                          \n",
      "Astoria                                    0.0   11409.986667\n",
      "Baisley Park                               0.0   21522.740000\n",
      "Battery Park City-Lower Manhattan          0.0  469890.796667\n",
      "Bedford                                    0.0   62113.343333\n",
      "Bensonhurst West                           0.0    -379.470000\n",
      "...                                        ...            ...\n",
      "Whitestone                                10.0   62038.306667\n",
      "Williamsburg                               0.0   23570.080000\n",
      "Windsor Terrace                            0.0   78573.320000\n",
      "Woodside                                   0.0    5625.736667\n",
      "park-cemetery-etc-Brooklyn                 0.0   14327.419333\n",
      "\n",
      "[79 rows x 2 columns]\n"
     ]
    }
   ],
   "source": [
    "#average total savings and the total jobs created for each NTA\n",
    "result=NTAgroupby_jobcreated.join(NTAgroupby_totalsavings)\n",
    "print(result)"
   ]
  },
  {
   "cell_type": "code",
   "execution_count": 123,
   "id": "a9d56a7f",
   "metadata": {},
   "outputs": [],
   "source": [
    "#Save my result for the previous question as a CSV file.\n",
    "result.to_csv('result.csv')\n"
   ]
  },
  {
   "cell_type": "code",
   "execution_count": 124,
   "id": "aec79e7b",
   "metadata": {},
   "outputs": [],
   "source": [
    "#DAY 5:"
   ]
  },
  {
   "cell_type": "code",
   "execution_count": 125,
   "id": "e95d7350",
   "metadata": {},
   "outputs": [],
   "source": [
    "#scatter plot of jobs created versus average savings. Use both a standard and a logarithmic scale for the average savings."
   ]
  },
  {
   "cell_type": "code",
   "execution_count": 126,
   "id": "6f7084d3",
   "metadata": {},
   "outputs": [
    {
     "data": {
      "image/png": "[encoded data removed]",
      "text/plain": [
       "<Figure size 432x288 with 1 Axes>"
      ]
     },
     "metadata": {
      "needs_background": "light"
     },
     "output_type": "display_data"
    }
   ],
   "source": [
    "import matplotlib.pyplot as plt\n",
    "fig,ax=plt.subplots()\n",
    "result_x=result['Job created']\n",
    "result_y=result['Total Savings']\n",
    "ax.scatter(result_x,result_y)\n",
    "plt.show()"
   ]
  },
  {
   "cell_type": "code",
   "execution_count": 127,
   "id": "0729ef57",
   "metadata": {},
   "outputs": [
    {
     "name": "stderr",
     "output_type": "stream",
     "text": [
      "C:\\Users\\marma\\anaconda3\\lib\\site-packages\\pandas\\core\\arraylike.py:397: RuntimeWarning: invalid value encountered in log\n",
      "  result = getattr(ufunc, method)(*inputs, **kwargs)\n"
     ]
    },
    {
     "data": {
      "image/png": "[encoded data removed]",
      "text/plain": [
       "<Figure size 432x288 with 1 Axes>"
      ]
     },
     "metadata": {
      "needs_background": "light"
     },
     "output_type": "display_data"
    }
   ],
   "source": [
    "import matplotlib.pyplot as plt\n",
    "fig,ax=plt.subplots()\n",
    "result_x=result['Job created']\n",
    "result_y=result['Total Savings']\n",
    "y=np.log(result_y)\n",
    "ax.scatter(result_x,y)\n",
    "plt.show()"
   ]
  },
  {
   "cell_type": "code",
   "execution_count": 128,
   "id": "3b8dd4ff",
   "metadata": {},
   "outputs": [
    {
     "data": {
      "image/png": "[encoded data removed]",
      "text/plain": [
       "<Figure size 432x288 with 1 Axes>"
      ]
     },
     "metadata": {
      "needs_background": "light"
     },
     "output_type": "display_data"
    }
   ],
   "source": [
    "#histogram of the log of the average total savings.\n",
    "\n",
    "import matplotlib.pyplot as plt\n",
    "fig,ax=plt.subplots()\n",
    "y_hist=result['Total Savings']\n",
    "ylog=np.log(y_hist)\n",
    "ax.hist(ylog)\n",
    "plt.show()"
   ]
  },
  {
   "cell_type": "code",
   "execution_count": 129,
   "id": "69af60fa",
   "metadata": {},
   "outputs": [
    {
     "name": "stdout",
     "output_type": "stream",
     "text": [
      "     Job created Effective Date\n",
      "0            NaN     03/04/2005\n",
      "1            NaN     04/02/2008\n",
      "2            NaN     01/05/2015\n",
      "3            NaN     02/03/2020\n",
      "4            NaN     06/30/2017\n",
      "..           ...            ...\n",
      "445         10.0     12/09/2008\n",
      "446          NaN     12/05/2017\n",
      "447          NaN     08/03/2018\n",
      "448          NaN     01/26/2016\n",
      "449          NaN     10/03/2019\n",
      "\n",
      "[450 rows x 2 columns]\n",
      "        Job created\n",
      "Months             \n",
      "01              0.0\n",
      "02             27.0\n",
      "03             20.0\n",
      "04              2.0\n",
      "05              2.0\n",
      "06             63.0\n",
      "07             20.0\n",
      "08              0.0\n",
      "09              0.0\n",
      "10              0.0\n",
      "11              5.0\n",
      "12             10.0\n"
     ]
    }
   ],
   "source": [
    "#line plot of the total jobs created for each month.\n",
    "job_date=data[['Job created','Effective Date']]\n",
    "print(job_date)\n",
    "\n",
    "k=[]\n",
    "effective=data['Effective Date']   \n",
    "for i in range(len(effective)):\n",
    "    k.append(effective[i][:2])\n",
    "\n",
    "job_date_month=pd.DataFrame({'Job created':job_date['Job created'],'Effective Date':job_date['Effective Date'],'Months':k})\n",
    "job_date_month\n",
    "job_months=job_date_month[['Job created','Months']]    \n",
    "job_months\n",
    "new1=job_months.groupby('Months').sum('Job created')\n",
    "print(new1)\n"
   ]
  },
  {
   "cell_type": "code",
   "execution_count": 130,
   "id": "9ce48520",
   "metadata": {},
   "outputs": [
    {
     "data": {
      "image/png": "[encoded data removed]",
      "text/plain": [
       "<Figure size 432x288 with 1 Axes>"
      ]
     },
     "metadata": {
      "needs_background": "light"
     },
     "output_type": "display_data"
    }
   ],
   "source": [
    "import matplotlib.pyplot as plt\n",
    "fig,ax=plt.subplots()\n",
    "plt.xlabel('Months')\n",
    "plt.ylabel('Total job created')\n",
    "ax.plot(new1)\n",
    "plt.show()"
   ]
  }
 ],
 "metadata": {
  "kernelspec": {
   "display_name": "Python 3 (ipykernel)",
   "language": "python",
   "name": "python3"
  },
  "language_info": {
   "codemirror_mode": {
    "name": "ipython",
    "version": 3
   },
   "file_extension": ".py",
   "mimetype": "text/x-python",
   "name": "python",
   "nbconvert_exporter": "python",
   "pygments_lexer": "ipython3",
   "version": "3.9.12"
  }
 },
 "nbformat": 4,
 "nbformat_minor": 5
}
